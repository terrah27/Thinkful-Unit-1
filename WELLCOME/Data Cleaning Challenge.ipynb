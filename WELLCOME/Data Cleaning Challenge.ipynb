{
 "cells": [
  {
   "cell_type": "code",
   "execution_count": 1,
   "metadata": {},
   "outputs": [],
   "source": [
    "import pandas as pd\n",
    "import numpy as np\n",
    "import matplotlib.pyplot as plt\n",
    "import re\n"
   ]
  },
  {
   "cell_type": "markdown",
   "metadata": {},
   "source": [
    "Data cleaning is definitely a \"practice makes perfect\" skill. Using this dataset of article open-access prices paid by the WELLCOME Trust between 2012 and 2013, determine the five most common journals and the total articles for each. Next, calculate the mean, median, and standard deviation of the open-access cost per article for each journal . You will need to do considerable data cleaning in order to extract accurate estimates, and may want to look into data encoding methods if you get stuck. For a real bonus round, identify the open access prices paid by subject area."
   ]
  },
  {
   "cell_type": "code",
   "execution_count": 2,
   "metadata": {},
   "outputs": [],
   "source": [
    "df = pd.read_csv('WELLCOME.csv', encoding='ISO-8859-1')"
   ]
  },
  {
   "cell_type": "code",
   "execution_count": 3,
   "metadata": {},
   "outputs": [
    {
     "data": {
      "text/html": [
       "<div>\n",
       "<style scoped>\n",
       "    .dataframe tbody tr th:only-of-type {\n",
       "        vertical-align: middle;\n",
       "    }\n",
       "\n",
       "    .dataframe tbody tr th {\n",
       "        vertical-align: top;\n",
       "    }\n",
       "\n",
       "    .dataframe thead th {\n",
       "        text-align: right;\n",
       "    }\n",
       "</style>\n",
       "<table border=\"1\" class=\"dataframe\">\n",
       "  <thead>\n",
       "    <tr style=\"text-align: right;\">\n",
       "      <th></th>\n",
       "      <th>PMID/PMCID</th>\n",
       "      <th>Publisher</th>\n",
       "      <th>Journal title</th>\n",
       "      <th>Article title</th>\n",
       "      <th>COST (£) charged to Wellcome (inc VAT when charged)</th>\n",
       "    </tr>\n",
       "  </thead>\n",
       "  <tbody>\n",
       "    <tr>\n",
       "      <th>0</th>\n",
       "      <td>NaN</td>\n",
       "      <td>CUP</td>\n",
       "      <td>Psychological Medicine</td>\n",
       "      <td>Reduced parahippocampal cortical thickness in ...</td>\n",
       "      <td>£0.00</td>\n",
       "    </tr>\n",
       "    <tr>\n",
       "      <th>1</th>\n",
       "      <td>PMC3679557</td>\n",
       "      <td>ACS</td>\n",
       "      <td>Biomacromolecules</td>\n",
       "      <td>Structural characterization of a Model Gram-ne...</td>\n",
       "      <td>£2381.04</td>\n",
       "    </tr>\n",
       "    <tr>\n",
       "      <th>2</th>\n",
       "      <td>23043264  PMC3506128</td>\n",
       "      <td>ACS</td>\n",
       "      <td>J Med Chem</td>\n",
       "      <td>Fumaroylamino-4,5-epoxymorphinans and related ...</td>\n",
       "      <td>£642.56</td>\n",
       "    </tr>\n",
       "    <tr>\n",
       "      <th>3</th>\n",
       "      <td>23438330 PMC3646402</td>\n",
       "      <td>ACS</td>\n",
       "      <td>J Med Chem</td>\n",
       "      <td>Orvinols with mixed kappa/mu opioid receptor a...</td>\n",
       "      <td>£669.64</td>\n",
       "    </tr>\n",
       "    <tr>\n",
       "      <th>4</th>\n",
       "      <td>23438216 PMC3601604</td>\n",
       "      <td>ACS</td>\n",
       "      <td>J Org Chem</td>\n",
       "      <td>Regioselective opening of myo-inositol orthoes...</td>\n",
       "      <td>£685.88</td>\n",
       "    </tr>\n",
       "  </tbody>\n",
       "</table>\n",
       "</div>"
      ],
      "text/plain": [
       "              PMID/PMCID Publisher           Journal title  \\\n",
       "0                    NaN       CUP  Psychological Medicine   \n",
       "1             PMC3679557       ACS       Biomacromolecules   \n",
       "2  23043264  PMC3506128        ACS              J Med Chem   \n",
       "3    23438330 PMC3646402       ACS              J Med Chem   \n",
       "4   23438216 PMC3601604        ACS              J Org Chem   \n",
       "\n",
       "                                       Article title  \\\n",
       "0  Reduced parahippocampal cortical thickness in ...   \n",
       "1  Structural characterization of a Model Gram-ne...   \n",
       "2  Fumaroylamino-4,5-epoxymorphinans and related ...   \n",
       "3  Orvinols with mixed kappa/mu opioid receptor a...   \n",
       "4  Regioselective opening of myo-inositol orthoes...   \n",
       "\n",
       "  COST (£) charged to Wellcome (inc VAT when charged)  \n",
       "0                                              £0.00   \n",
       "1                                           £2381.04   \n",
       "2                                            £642.56   \n",
       "3                                            £669.64   \n",
       "4                                            £685.88   "
      ]
     },
     "execution_count": 3,
     "metadata": {},
     "output_type": "execute_result"
    }
   ],
   "source": [
    "df.head()"
   ]
  },
  {
   "cell_type": "code",
   "execution_count": 4,
   "metadata": {},
   "outputs": [
    {
     "data": {
      "text/plain": [
       "Index(['PMID/PMCID', 'Publisher', 'Journal title', 'Article title',\n",
       "       'COST (£) charged to Wellcome (inc VAT when charged)'],\n",
       "      dtype='object')"
      ]
     },
     "execution_count": 4,
     "metadata": {},
     "output_type": "execute_result"
    }
   ],
   "source": [
    "df.columns"
   ]
  },
  {
   "cell_type": "code",
   "execution_count": 5,
   "metadata": {},
   "outputs": [
    {
     "data": {
      "text/html": [
       "<div>\n",
       "<style scoped>\n",
       "    .dataframe tbody tr th:only-of-type {\n",
       "        vertical-align: middle;\n",
       "    }\n",
       "\n",
       "    .dataframe tbody tr th {\n",
       "        vertical-align: top;\n",
       "    }\n",
       "\n",
       "    .dataframe thead th {\n",
       "        text-align: right;\n",
       "    }\n",
       "</style>\n",
       "<table border=\"1\" class=\"dataframe\">\n",
       "  <thead>\n",
       "    <tr style=\"text-align: right;\">\n",
       "      <th></th>\n",
       "      <th>PMID/PMCID</th>\n",
       "      <th>Publisher</th>\n",
       "      <th>Journal title</th>\n",
       "      <th>Article title</th>\n",
       "      <th>Cost</th>\n",
       "    </tr>\n",
       "  </thead>\n",
       "  <tbody>\n",
       "    <tr>\n",
       "      <th>0</th>\n",
       "      <td>NaN</td>\n",
       "      <td>CUP</td>\n",
       "      <td>Psychological Medicine</td>\n",
       "      <td>Reduced parahippocampal cortical thickness in ...</td>\n",
       "      <td>£0.00</td>\n",
       "    </tr>\n",
       "    <tr>\n",
       "      <th>1</th>\n",
       "      <td>PMC3679557</td>\n",
       "      <td>ACS</td>\n",
       "      <td>Biomacromolecules</td>\n",
       "      <td>Structural characterization of a Model Gram-ne...</td>\n",
       "      <td>£2381.04</td>\n",
       "    </tr>\n",
       "    <tr>\n",
       "      <th>2</th>\n",
       "      <td>23043264  PMC3506128</td>\n",
       "      <td>ACS</td>\n",
       "      <td>J Med Chem</td>\n",
       "      <td>Fumaroylamino-4,5-epoxymorphinans and related ...</td>\n",
       "      <td>£642.56</td>\n",
       "    </tr>\n",
       "    <tr>\n",
       "      <th>3</th>\n",
       "      <td>23438330 PMC3646402</td>\n",
       "      <td>ACS</td>\n",
       "      <td>J Med Chem</td>\n",
       "      <td>Orvinols with mixed kappa/mu opioid receptor a...</td>\n",
       "      <td>£669.64</td>\n",
       "    </tr>\n",
       "    <tr>\n",
       "      <th>4</th>\n",
       "      <td>23438216 PMC3601604</td>\n",
       "      <td>ACS</td>\n",
       "      <td>J Org Chem</td>\n",
       "      <td>Regioselective opening of myo-inositol orthoes...</td>\n",
       "      <td>£685.88</td>\n",
       "    </tr>\n",
       "  </tbody>\n",
       "</table>\n",
       "</div>"
      ],
      "text/plain": [
       "              PMID/PMCID Publisher           Journal title  \\\n",
       "0                    NaN       CUP  Psychological Medicine   \n",
       "1             PMC3679557       ACS       Biomacromolecules   \n",
       "2  23043264  PMC3506128        ACS              J Med Chem   \n",
       "3    23438330 PMC3646402       ACS              J Med Chem   \n",
       "4   23438216 PMC3601604        ACS              J Org Chem   \n",
       "\n",
       "                                       Article title      Cost  \n",
       "0  Reduced parahippocampal cortical thickness in ...     £0.00  \n",
       "1  Structural characterization of a Model Gram-ne...  £2381.04  \n",
       "2  Fumaroylamino-4,5-epoxymorphinans and related ...   £642.56  \n",
       "3  Orvinols with mixed kappa/mu opioid receptor a...   £669.64  \n",
       "4  Regioselective opening of myo-inositol orthoes...   £685.88  "
      ]
     },
     "execution_count": 5,
     "metadata": {},
     "output_type": "execute_result"
    }
   ],
   "source": [
    "#Rename column Cost\n",
    "df = df.rename(columns={'COST (£) charged to Wellcome (inc VAT when charged)':'Cost'})\n",
    "df.head()"
   ]
  },
  {
   "cell_type": "code",
   "execution_count": 6,
   "metadata": {},
   "outputs": [
    {
     "data": {
      "text/html": [
       "<div>\n",
       "<style scoped>\n",
       "    .dataframe tbody tr th:only-of-type {\n",
       "        vertical-align: middle;\n",
       "    }\n",
       "\n",
       "    .dataframe tbody tr th {\n",
       "        vertical-align: top;\n",
       "    }\n",
       "\n",
       "    .dataframe thead th {\n",
       "        text-align: right;\n",
       "    }\n",
       "</style>\n",
       "<table border=\"1\" class=\"dataframe\">\n",
       "  <thead>\n",
       "    <tr style=\"text-align: right;\">\n",
       "      <th></th>\n",
       "      <th>PMID/PMCID</th>\n",
       "      <th>Publisher</th>\n",
       "      <th>Journal title</th>\n",
       "      <th>Article title</th>\n",
       "      <th>Cost</th>\n",
       "    </tr>\n",
       "  </thead>\n",
       "  <tbody>\n",
       "    <tr>\n",
       "      <th>count</th>\n",
       "      <td>1928</td>\n",
       "      <td>2127</td>\n",
       "      <td>2126</td>\n",
       "      <td>2127</td>\n",
       "      <td>2127</td>\n",
       "    </tr>\n",
       "    <tr>\n",
       "      <th>unique</th>\n",
       "      <td>1880</td>\n",
       "      <td>299</td>\n",
       "      <td>984</td>\n",
       "      <td>2126</td>\n",
       "      <td>1402</td>\n",
       "    </tr>\n",
       "    <tr>\n",
       "      <th>top</th>\n",
       "      <td>Not yet available</td>\n",
       "      <td>Elsevier</td>\n",
       "      <td>PLoS One</td>\n",
       "      <td>Exclusive breastfeeding, diarrhoel morbidity a...</td>\n",
       "      <td>£2040.00</td>\n",
       "    </tr>\n",
       "    <tr>\n",
       "      <th>freq</th>\n",
       "      <td>7</td>\n",
       "      <td>387</td>\n",
       "      <td>92</td>\n",
       "      <td>2</td>\n",
       "      <td>94</td>\n",
       "    </tr>\n",
       "  </tbody>\n",
       "</table>\n",
       "</div>"
      ],
      "text/plain": [
       "               PMID/PMCID Publisher Journal title  \\\n",
       "count                1928      2127          2126   \n",
       "unique               1880       299           984   \n",
       "top     Not yet available  Elsevier      PLoS One   \n",
       "freq                    7       387            92   \n",
       "\n",
       "                                            Article title      Cost  \n",
       "count                                                2127      2127  \n",
       "unique                                               2126      1402  \n",
       "top     Exclusive breastfeeding, diarrhoel morbidity a...  £2040.00  \n",
       "freq                                                    2        94  "
      ]
     },
     "execution_count": 6,
     "metadata": {},
     "output_type": "execute_result"
    }
   ],
   "source": [
    "df.describe()"
   ]
  },
  {
   "cell_type": "code",
   "execution_count": 7,
   "metadata": {},
   "outputs": [
    {
     "data": {
      "text/plain": [
       "array(['CUP', 'ACS', 'ACS (Amercian Chemical Society) Publications',\n",
       "       'ACS Publications', 'AGA Institute', 'AMBSB',\n",
       "       'American Association of Immunologists',\n",
       "       'American Chemical Society', 'AMERICAN CHEMICAL SOCIETY',\n",
       "       'American Chemical Society Publications',\n",
       "       'American College of Chest Physicians',\n",
       "       'American Physiological Society',\n",
       "       'American Psychiatric Association',\n",
       "       'American Psychiatric Publishing',\n",
       "       'American Psychological Association',\n",
       "       'American Psychological Association ',\n",
       "       'American Public Health Association',\n",
       "       'American Soc for Biochemistry and Molecular Biology',\n",
       "       'American Society for Biochemistry and Molecular Biolgy',\n",
       "       'American Society for Biochemistry and Molecular Biology',\n",
       "       'American Society for Biochemistry and Molecular Biology ',\n",
       "       'American Society for Investigative Pathology',\n",
       "       'American Society for Microbiology',\n",
       "       'American Society for Microbiology ',\n",
       "       'American Society for Microbiology \\n',\n",
       "       'American Society for Nutrition',\n",
       "       'American Society of Haematology',\n",
       "       'American Society of Hamatology', 'American Society of Hematology',\n",
       "       'American Society of Human Genetics (Elsevier)',\n",
       "       'American Society of Microbiology',\n",
       "       'American Speech-Language-Hearing Association', 'ASBMB',\n",
       "       'ASBMB Cadmus', 'ASBMB/Cadmus', 'ASBMB/Cenveo Publisher Services',\n",
       "       'ASBMC /CENVEO', 'ASM', 'ASM (American Society for Microbiology)',\n",
       "       'Association for Research in Vision & Ophthalmology',\n",
       "       'Bentham Science Publishers', 'Benthan Science Publishers',\n",
       "       'Berhahn Books', 'Biochem Journal', 'BioMed Central',\n",
       "       'BioMed central', 'Biomed Central', 'BioMed Central ',\n",
       "       'BioMed Central Limited', 'BioMed Central Ltd',\n",
       "       'Biophysical Society', 'BioScientifica', 'Bioscientifica',\n",
       "       'Blackwell Publishing Ltd/Wiley', 'BMC', 'BMJ', 'BMJ ',\n",
       "       'BMJ Group', 'BMJ group', 'BMJ Group ', 'BMJ Journals',\n",
       "       'BMJ Publishing Group', 'BMJ PUBLISHING GROUP',\n",
       "       'BMJ Publishing Group Ltd',\n",
       "       'BMJ Publishing Group Ltd & British Thoracic Society', 'Brill',\n",
       "       'British Medical Journal', 'Byophysical Society', 'Cadmus',\n",
       "       'Cadmus ', 'CADMUS JOURNAL SERVICE ', 'Cadmus Journal Services',\n",
       "       'CADMUS JOURNAL SERVICES', 'Cambridge Journals',\n",
       "       'Cambridge Uni Press', 'Cambridge Univ Press',\n",
       "       'Cambridge University Press', 'Camdus Journal Services',\n",
       "       'Cell Press', 'Cenveo Publisher services',\n",
       "       'Cenveo Publisher Services/ASM JV1', 'COACTION',\n",
       "       'Cold Spring Habour Press', 'Cold Spring Harbor',\n",
       "       'Cold Spring Harbor Laboratory Press', 'Cold Spring Harbor Press',\n",
       "       'Cold Spring Harbor Publications', 'Company of Biologist',\n",
       "       'Company of Biologists', 'Company of Biologists Ltd',\n",
       "       'Copyright Clearace Center', 'CSHLP', 'Darmouth Journal Services',\n",
       "       'Dartmouth Journal Services', 'Dartmouth Journal Services ',\n",
       "       'Dartmouth Journals', 'Elseveier Science', 'Elsevier', 'ELSEVIER',\n",
       "       'Elsevier ', 'Elsevier (Cell Press)', 'Elsevier / Cell Science',\n",
       "       'Elsevier B.V.', 'Elsevier Ltd', 'Elsevier/Cell Press',\n",
       "       'Endocrine Society', 'European Respiratory Society',\n",
       "       'European Society of Endocrinolog', 'FASEB',\n",
       "       'Federation of American Societies for Experimental Biology',\n",
       "       'Federation of American Societies for Experimental Biology (FASEB)',\n",
       "       'Federation of the American Society of Experimental Biology',\n",
       "       'Ferrata Storti Foundation', 'Frontiers', 'Frontiers Media',\n",
       "       'Frontiers Media SA', 'Frontiers Research Foundation',\n",
       "       'Future Medicine', 'Future Medicine Ltd', 'Future Science',\n",
       "       'Hindawi', 'Hindawi Publishing Corporation',\n",
       "       'Humana Press (Springer Imprint)', 'Impact Journals',\n",
       "       'Impact Journals LLC', 'Informa Healthcare',\n",
       "       'Informa Healthcare communications', 'Institute of Physics',\n",
       "       'International AIDS Society',\n",
       "       'International Union Against Tuberculosis and Lung Disease',\n",
       "       'International Union Against tuberculosis and Lung Disease',\n",
       "       'International Union of Crystallography',\n",
       "       'International Union of Crystallography ',\n",
       "       'International Union of Crystallography (iucr)', 'IOP Publishing',\n",
       "       'IOS Press', 'Ivyspring International Publisher',\n",
       "       'J Med Internet Research', 'John Wiley', 'JOHN WILEY & SONS',\n",
       "       'John Wiley & Sons', 'John Wiley & Sons Inc',\n",
       "       'John Wiley & Sons Ltd', 'John Wiley & Sons, Inc. ',\n",
       "       'John Wiley and Sons', 'John Wiley and Sons Ltd',\n",
       "       'Johns Hopkins University Press',\n",
       "       'Journal of the American Physiological Proceedings of National Academy of Sciences',\n",
       "       'Journal of Visualized Experiments', 'JoVE', 'JSciMed Central',\n",
       "       'KARGER', 'Karger', 'Landes Bioscience', 'Landes Biosciences',\n",
       "       'LWW', 'MacMillan', 'Mary Ann Liebert', 'MARY ANN LIEBERT INC',\n",
       "       'Mary Ann Liebert, Inc. Publishers', 'MDPI', 'MIT Press',\n",
       "       'MIT PRESS OPEN ACCESS', 'MY JOVE CORP', 'My JOVE corporation',\n",
       "       'MYJoVE Corporation', 'National Academy of Sciences',\n",
       "       'National Academy of Sciences ',\n",
       "       'National Academy of Sciences of the United States of America',\n",
       "       'National Academy of Sciences USA',\n",
       "       'National Academy of Sciences, USA', 'Nature', 'Nature ',\n",
       "       'Nature PG', 'Nature Publishing', 'Nature Publishing Group',\n",
       "       'Nature publishing group', 'Nature Publishing Group ',\n",
       "       'NATURE PUBLISHING GROUP LTD', 'NPG', 'Open Access Reg Ltd',\n",
       "       'Optical Society of America', 'OUP', 'Oxford Journals',\n",
       "       'Oxford Journals (OUP)', 'Oxford Univ Press',\n",
       "       'Oxford University Press', 'OXFORD UNIVERSITY PRESS',\n",
       "       'Oxford University Press ', 'Oxford University Press (OUP)',\n",
       "       'Oxford University Press\\n', 'Oxford Univesity Press',\n",
       "       'Palgrave MacMillan ', 'Pion', 'PLOS', 'PLoS', 'Plos',\n",
       "       'PLoS (Public Library of Science)',\n",
       "       'PLoS Public Library of Science', 'PNAS',\n",
       "       'PNAS Author Publication', 'Policy Press', 'Portland Press',\n",
       "       'Portland press', 'PORTLAND PRESS LTD', 'Portland Press Ltd',\n",
       "       'Proceedings of the National Academy of Sciences (PNAS)',\n",
       "       'Public Library of Science', 'public.service.co.uk',\n",
       "       'Publisher Society for Endocrinology', 'PubMed', 'PubMed Central',\n",
       "       'Research Media Ltd', 'Royal College of Psychiatrists',\n",
       "       'Royal Society', 'Royal Society for Chemistry',\n",
       "       'Royal Society of Chemistry', 'RSC', 'RSC Publishing', 'SAGE',\n",
       "       'Sage', 'Sage Publications', 'SAGE Publications',\n",
       "       'Sage Publications Inc', 'Sage Publications Ltd',\n",
       "       'Sage Publishers', 'Sage Publishing', 'Sciedu Press',\n",
       "       'Scientific Research Publishing', 'Sheridan Press',\n",
       "       'Society for Endocrinology', 'Society for General Microbiology',\n",
       "       'Society for Genermal Microbiology',\n",
       "       'Society for Leukocyte Biology', 'Society for Neuroscience',\n",
       "       'Society for Neurosciences',\n",
       "       'Society for Publication of Acta Dermato-Venereologica',\n",
       "       'Society of General Microbiology', 'Society of Leukocyte Biology',\n",
       "       'SOCIETY OF NEURO SCIENCES', 'Society of Neuroscience', 'Springer',\n",
       "       'Springer ', 'Springer - Verlag GMBH',\n",
       "       'Springer Science + Business Media', 'Springer Verlag',\n",
       "       'Springer-Veriag GmbH ', 'SPRINGER-VERLAG GMBH',\n",
       "       'Springer-Verlag GmbH', 'Springer-Verlag GMBH & Ci',\n",
       "       'Springer-Verlag GmbH, Heidelberger Platz 3, D-14197 Berlin',\n",
       "       'T&F', 'Taylor & Francis', 'Taylor & Francis Journals ',\n",
       "       'Taylor and Francis', 'Taylor and Francis ',\n",
       "       'The American Chemical Society Petroleum Research Trust',\n",
       "       'The American Physiological Society',\n",
       "       'The American Society for Biochemistry and Molecular Biology',\n",
       "       'The American Society for Biochemistry and Molecular Biology, Inc',\n",
       "       'The American Society of Pediatrics', 'The Boulevard',\n",
       "       'The company of Biolgists', 'THE COMPANY OF BIOLOGISTS',\n",
       "       'The company of Biologists', 'The Company of Biologists',\n",
       "       'The Company of Biologists Ltd', 'The Endocrine Socety',\n",
       "       'The Endocrine Society', 'THE ENDOCRINE SOCIETY',\n",
       "       'The Endrocrine Society', 'The Journal of Visualized Experiments',\n",
       "       'The Royal College of Psychiatrists', 'The Royal Society',\n",
       "       'The royal Society', 'The Sheridan Press', 'The Sheridan Press ',\n",
       "       'Transcript Verlag', 'University of the Basque Country Press',\n",
       "       'Wiley', 'Wiley ', 'Wiley & Son', 'Wiley Blackwell',\n",
       "       'Wiley Online Library', 'Wiley Subscription Services',\n",
       "       'Wiley Subscription Services  Inc.',\n",
       "       'Wiley Subscription Services Inc',\n",
       "       'Wiley Subscription Serviices Inc', 'Wiley VCH', 'Wiley/Blackwell',\n",
       "       'Wiley-Blackwell', 'Wiley-Blackwell, John Wiley & Sons',\n",
       "       'Wiley-VCH', 'Wliey-Blackwell', 'Wolters Kluwer',\n",
       "       'Wolters Kluwer Health', 'Wolters Kluwer Health ',\n",
       "       'Wolters Kluwer N.V./Lippinott', 'Wolters Kluwers'], dtype=object)"
      ]
     },
     "execution_count": 7,
     "metadata": {},
     "output_type": "execute_result"
    }
   ],
   "source": [
    "#use .unique() to check for all unique values\n",
    "df.Publisher.unique()"
   ]
  },
  {
   "cell_type": "code",
   "execution_count": 8,
   "metadata": {},
   "outputs": [
    {
     "data": {
      "text/plain": [
       "ELSEVIER                                                      399\n",
       "PUBLIC LIBRARY OF SCIENCE                                     278\n",
       "WILEY                                                         148\n",
       "OXFORD UNIVERSITY PRESS                                        85\n",
       "SPRINGER                                                       82\n",
       "BIOMED CENTRAL                                                 60\n",
       "WILEY-BLACKWELL                                                56\n",
       "OUP                                                            56\n",
       "NATURE PUBLISHING GROUP                                        49\n",
       "ASBMB                                                          46\n",
       "BMC                                                            26\n",
       "NATURE                                                         25\n",
       "BMJ                                                            25\n",
       "PLOS                                                           24\n",
       "FRONTIERS                                                      23\n",
       "ROYAL SOCIETY                                                  22\n",
       "CAMBRIDGE UNIVERSITY PRESS                                     20\n",
       "AMERICAN SOCIETY FOR BIOCHEMISTRY AND MOLECULAR BIOLOGY        19\n",
       "COMPANY OF BIOLOGISTS                                          18\n",
       "AMERICAN SOCIETY FOR MICROBIOLOGY                              18\n",
       "DARTMOUTH JOURNAL SERVICES                                     18\n",
       "NATIONAL ACADEMY OF SCIENCES                                   16\n",
       "OXFORD JOURNALS                                                16\n",
       "BMJ GROUP                                                      16\n",
       "AMERICAN CHEMICAL SOCIETY                                      15\n",
       "SOCIETY FOR GENERAL MICROBIOLOGY                               14\n",
       "AMERICAN PSYCHOLOGICAL ASSOCIATION                             14\n",
       "SAGE                                                           14\n",
       "LANDES BIOSCIENCE                                              14\n",
       "WILEY SUBSCRIPTION SERVICES  INC.                              13\n",
       "                                                             ... \n",
       "BMJ PUBLISHING GROUP LTD & BRITISH THORACIC SOCIETY             1\n",
       "SOCIETY FOR PUBLICATION OF ACTA DERMATO-VENEREOLOGICA           1\n",
       "MACMILLAN                                                       1\n",
       "FUTURE MEDICINE LTD                                             1\n",
       "IMPACT JOURNALS LLC                                             1\n",
       "COACTION                                                        1\n",
       "MARY ANN LIEBERT, INC. PUBLISHERS                               1\n",
       "HUMANA PRESS (SPRINGER IMPRINT)                                 1\n",
       "POLICY PRESS                                                    1\n",
       "AMERICAN SPEECH-LANGUAGE-HEARING ASSOCIATION                    1\n",
       "SOCIETY OF NEUROSCIENCE                                         1\n",
       "JOHN WILEY AND SONS LTD                                         1\n",
       "RESEARCH MEDIA LTD                                              1\n",
       "INFORMA HEALTHCARE                                              1\n",
       "MIT PRESS                                                       1\n",
       "CENVEO PUBLISHER SERVICES                                       1\n",
       "NATURE PUBLISHING GROUP LTD                                     1\n",
       "WLIEY-BLACKWELL                                                 1\n",
       "AMERICAN SOCIETY OF HUMAN GENETICS (ELSEVIER)                   1\n",
       "LWW                                                             1\n",
       "SPRINGER-VERIAG GMBH                                            1\n",
       "CAMBRIDGE JOURNALS                                              1\n",
       "ASBMB/CENVEO PUBLISHER SERVICES                                 1\n",
       "SPRINGER-VERLAG GMBH, HEIDELBERGER PLATZ 3, D-14197 BERLIN      1\n",
       "SOCIETY OF GENERAL MICROBIOLOGY                                 1\n",
       "THE AMERICAN SOCIETY OF PEDIATRICS                              1\n",
       "PLOS PUBLIC LIBRARY OF SCIENCE                                  1\n",
       "BENTHAM SCIENCE PUBLISHERS                                      1\n",
       "ROYAL SOCIETY OF CHEMISTRY                                      1\n",
       "IMPACT JOURNALS                                                 1\n",
       "Name: Publisher, Length: 254, dtype: int64"
      ]
     },
     "execution_count": 8,
     "metadata": {},
     "output_type": "execute_result"
    }
   ],
   "source": [
    "#format names in all caps and remove leading and tailing whitespace\n",
    "df['Publisher'] = df.Publisher.str.strip().str.upper()\n",
    "df.Publisher.value_counts()"
   ]
  },
  {
   "cell_type": "code",
   "execution_count": 9,
   "metadata": {},
   "outputs": [
    {
     "data": {
      "text/plain": [
       "ELSEVIER                                                      409\n",
       "PUBLIC LIBRARY OF SCIENCE                                     307\n",
       "WILEY                                                         270\n",
       "OXFORD UNIVERSITY PRESS                                       247\n",
       "SPRINGER                                                       95\n",
       "BIOMED CENTRAL                                                 89\n",
       "ASBMB                                                          70\n",
       "RSC                                                            48\n",
       "PNAS                                                           36\n",
       "CAMBRIDGE UNIVERSITY PRESS                                     33\n",
       "FRONTIERS                                                      32\n",
       "NATURE                                                         31\n",
       "AMERICAN CHEMICAL SOCIETY                                      29\n",
       "BRITISH MEDICAL JOURNAL                                        28\n",
       "THE COMPANCY OF BIOLOGISTS                                     27\n",
       "AMERICAN SOCIETY OF MICROBIOLOGY                               24\n",
       "DARTMOUTH JOURNALS                                             22\n",
       "PORTLAND PRESS                                                 22\n",
       "SAGE                                                           21\n",
       "TAYLOR AND FRANCIS                                             19\n",
       "LANDES BIOSCIENCE                                              16\n",
       "ENDOCRINE SOCIETY                                              16\n",
       "SOCIETY FOR GENERAL MICROBIOLOGY                               16\n",
       "AMERICAN PSYCHIATIC                                            16\n",
       "CADMUS                                                         12\n",
       "WOLTERS KLUWER                                                 12\n",
       "FEDERATION OF AMERICAN SOCIETIES FOR EXPERIMENTAL BIOLOGY      11\n",
       "INTERNATIONAL UNION OF CRYSTALLOGRAPHY                         10\n",
       "MIT                                                             9\n",
       "AMERICAN SOCIETY OF HEMATOLOGY                                  9\n",
       "                                                             ... \n",
       "SOCIETY FOR LEUKOCYTE BIOLOGY                                   1\n",
       "PION                                                            1\n",
       "AMERICAN COLLEGE OF CHEST PHYSICIANS                            1\n",
       "JSCIMED CENTRAL                                                 1\n",
       "THE AMERICAN SOCIETY OF PEDIATRICS                              1\n",
       "CAMDUS JOURNAL SERVICES                                         1\n",
       "BRILL                                                           1\n",
       "THE BOULEVARD                                                   1\n",
       "AMERICAN SOCIETY FOR NUTRITION                                  1\n",
       "AMERICAN PUBLIC HEALTH ASSOCIATION                              1\n",
       "SOCIETY OF LEUKOCYTE BIOLOGY                                    1\n",
       "JOHNS HOPKINS UNIVERSITY PRESS                                  1\n",
       "PUBLIC.SERVICE.CO.UK                                            1\n",
       "PUBLISHER SOCIETY FOR ENDOCRINOLOGY                             1\n",
       "EUROPEAN RESPIRATORY SOCIETY                                    1\n",
       "IOP PUBLISHING                                                  1\n",
       "IVYSPRING INTERNATIONAL PUBLISHER                               1\n",
       "UNIVERSITY OF THE BASQUE COUNTRY PRESS                          1\n",
       "FEDERATION OF THE AMERICAN SOCIETY OF EXPERIMENTAL BIOLOGY      1\n",
       "POLICY PRESS                                                    1\n",
       "IOS PRESS                                                       1\n",
       "LWW                                                             1\n",
       "JOURNAL OF VISUALIZED EXPERIMENTS                               1\n",
       "J MED INTERNET RESEARCH                                         1\n",
       "OPEN ACCESS REG LTD                                             1\n",
       "THE JOURNAL OF VISUALIZED EXPERIMENTS                           1\n",
       "SOCIETY FOR ENDOCRINOLOGY                                       1\n",
       "EUROPEAN SOCIETY OF ENDOCRINOLOG                                1\n",
       "AMERICAN SOCIETY FOR INVESTIGATIVE PATHOLOGY                    1\n",
       "AMERICAN SPEECH-LANGUAGE-HEARING ASSOCIATION                    1\n",
       "Name: Publisher, Length: 99, dtype: int64"
      ]
     },
     "execution_count": 9,
     "metadata": {},
     "output_type": "execute_result"
    }
   ],
   "source": [
    "df.Publisher.replace(r'(^.*SPRINGER.*$)', 'SPRINGER', inplace=True, regex=True)\n",
    "df.Publisher.replace(r'(^.*WILEY.*$)', 'WILEY', inplace=True, regex=True)\n",
    "df.Publisher.replace(r'(^.*OUP.*$)', 'OXFORD UNIVERSITY PRESS', inplace=True, regex=True)\n",
    "df.Publisher.replace(r'(^.*PLOS.*$)', 'PUBLIC LIBRARY OF SCIENCE', inplace=True, regex=True)\n",
    "df.Publisher.replace(r'(^.*PUBMED.*$)', 'PUBMED', inplace=True, regex=True)\n",
    "df.Publisher.replace(r'(^.*PORTLAND.*$)', 'PORTLAND PRESS', inplace=True, regex=True)\n",
    "df.Publisher.replace(r'(^.*BMJ.*$)', 'BRITISH MEDICAL JOURNAL', inplace=True, regex=True)\n",
    "df.Publisher.replace(r'(^.*BMC.*$)', 'BIOMED CENTRAL', inplace=True, regex=True)\n",
    "df.Publisher.replace(r'(^.*CUP.*$)', 'CAMBRIDGE UNIVERSITY PRESS', inplace=True, regex=True)\n",
    "df.Publisher.replace(r'(^.*ACS.*$)', 'AMERICAN CHEMICAL SOCIETY', inplace=True, regex=True)\n",
    "df.Publisher.replace(r'(^.*CADMUS.*$)', 'CADMUS', inplace=True, regex=True)\n",
    "df.Publisher.replace(r'(^.*ELSEV.*$)', 'ELSEVIER', inplace=True, regex=True)\n",
    "df.Publisher.replace(r'(^.*COLD SPRING.*$)', 'COLD SPRING HARBOUR', inplace=True, regex=True)\n",
    "df.Publisher.replace(r'(^.*CAMBRIDGE.*$)', 'CAMBRIDGE UNIVERSITY PRESS', inplace=True, regex=True)\n",
    "df.Publisher.replace(r'(^.*MIT.*$)', 'MIT', inplace=True, regex=True)\n",
    "df.Publisher.replace(r'(^.*WOLTERS.*$)', 'WOLTERS KLUWER', inplace=True, regex=True)\n",
    "df.Publisher.replace(r'(^.*AMERICAN PSYCH.*$)', 'AMERICAN PSYCHIATIC', inplace=True, regex=True)\n",
    "df.Publisher.replace(r'(^.*AMERICAN SOCIETY FOR MICROB.*$)', 'AMERICAN SOCIETY OF MICROBIOLOGY', inplace=True, regex=True)\n",
    "df.Publisher.replace(r'(^.*BIOCHEMISTRY AND MOLECULAR.*$)', 'ASBMB', inplace=True, regex=True)\n",
    "df.Publisher.replace(r'(^.*CENVEO.*$)', 'CENVEO', inplace=True, regex=True)\n",
    "df.Publisher.replace(r'(^.*TAYLOR &.*$)', 'TAYLOR AND FRANCIS', inplace=True, regex=True)\n",
    "df.Publisher.replace(r'(^.*T&F.*$)', 'TAYLOR AND FRANCIS', inplace=True, regex=True)\n",
    "df.Publisher.replace(r'(^.*COMPANY OF BIO.*$)', 'THE COMPANCY OF BIOLOGISTS', inplace=True, regex=True)\n",
    "df.Publisher.replace(r'(^.*BLACKWELL.*$)', 'WILEY', inplace=True, regex=True)\n",
    "df.Publisher.replace(r'(^.*INFORMA.*$)', 'INFORMA', inplace=True, regex=True)\n",
    "df.Publisher.replace(r'(^.*ASBMB.*$)', 'ASBMB', inplace=True, regex=True)\n",
    "df.Publisher.replace(r'(^.*FRONTIERS.*$)', 'FRONTIERS', inplace=True, regex=True)\n",
    "df.Publisher.replace(r'(^.*AMERICAN SOCIETY OF H.*$)', 'AMERICAN SOCIETY OF HEMATOLOGY', inplace=True, regex=True)\n",
    "df.Publisher.replace(r'(^.*HINDAWI.*$)', 'HINDAWI', inplace=True, regex=True)\n",
    "df.Publisher.replace(r'(^.*ENDROCRINE.*$)', 'ENDOCRINE SOCIETY', inplace=True, regex=True)\n",
    "df.Publisher.replace(r'(^.*SOCIETY FOR NEURO.*$)', 'SOCIETY OF NEURSCIENCE', inplace=True, regex=True)\n",
    "df.Publisher.replace(r'(^.*SOCIETY OF NEURO.*$)', 'SOCIETY OF NEURSCIENCE', inplace=True, regex=True)\n",
    "df.Publisher.replace(r'(^.*SAGE.*$)', 'SAGE', inplace=True, regex=True)\n",
    "df.Publisher.replace(r'(^.*SHERIDAN.*$)', 'SHERIDAN PRESS', inplace=True, regex=True)\n",
    "df.Publisher.replace(r'(^.*RSC.*$)', 'RSC', inplace=True, regex=True)\n",
    "df.Publisher.replace(r'(^.*ROYAL SOCIETY.*$)', 'RSC', inplace=True, regex=True)\n",
    "df.Publisher.replace(r'(^.*OXFORD.*$)', 'OXFORD UNIVERSITY PRESS', inplace=True, regex=True)\n",
    "df.Publisher.replace(r'(^.*NATIONAL ACADEMY OF SCIE.*$)', 'PNAS', inplace=True, regex=True)\n",
    "df.Publisher.replace(r'(^.*MARY ANN.*$)', 'MARY ANN LIEBERT', inplace=True, regex=True)\n",
    "df.Publisher.replace(r'(^.*FUTURE.*$)', 'FUTURE MEDICINE', inplace=True, regex=True)\n",
    "df.Publisher.replace(r'(^.*IMPACT.*$)', 'IMPACT JOURNALS', inplace=True, regex=True)\n",
    "df.Publisher.replace(r'(^.*BENTHA.*$)', 'BENTHAM SCIENCE', inplace=True, regex=True)\n",
    "df.Publisher.replace(r'(^.*DARTMOUTH.*$)', 'DARTMOUTH JOURNALS', inplace=True, regex=True)\n",
    "df.Publisher.replace(r'(^.*DARMOUTH.*$)', 'DARTMOUTH JOURNALS', inplace=True, regex=True)\n",
    "df.Publisher.replace(r'(^.*FASEB.*$)', 'FEDERATION OF AMERICAN SOCIETIES FOR EXPERIMENTAL BIOLOGY', inplace=True, regex=True)\n",
    "df.Publisher.replace(r'(^.*IUCR.*$)', 'INTERNATIONAL UNION OF CRYSTALLOGRAPHY', inplace=True, regex=True)\n",
    "df.Publisher.replace(r'(^.*JOVE.*$)', 'JOVE', inplace=True, regex=True)\n",
    "df.Publisher.replace(r'(^.*PNAS.*$)', 'PNAS', inplace=True, regex=True)\n",
    "df.Publisher.replace(r'(^.*JOVE.*$)', 'JOVE', inplace=True, regex=True)\n",
    "df.Publisher.replace(r'(^.*BYOP.*$)', 'BIOPYSICAL SOCIETY', inplace=True, regex=True)\n",
    "df.Publisher.replace(r'(^.*ASM.*$)', 'AMERICAN SOCIETY OF MICROBIOLOGY', inplace=True, regex=True)\n",
    "df.Publisher.replace(r'(^.*NATURE.*$)', 'NATURE', inplace=True, regex=True)\n",
    "df.Publisher.replace(r'(^.*NPG.*$)', 'NATURE', inplace=True, regex=True)\n",
    "df.Publisher.replace(r'(^.*FERRATA.*$)', 'FERRATA', inplace=True, regex=True)\n",
    "df.Publisher.replace(r'(^.*LANDES.*$)', 'LANDES BIOSCIENCE', inplace=True, regex=True)\n",
    "df.Publisher.replace(r'(^.*MACMILLAN.*$)', 'MACMILLAN', inplace=True, regex=True)\n",
    "df.Publisher.replace(r'(^.*SOCIETY FOR GENERMAL MICROBIOLOGY.*$)', 'SOCIETY FOR GENERAL MICROBIOLOGY', inplace=True, regex=True)\n",
    "df.Publisher.replace(r'(^.*SOCIETY OF GENERAL MICROBIOLOGY.*$)', 'SOCIETY FOR GENERAL MICROBIOLOGY', inplace=True, regex=True)\n",
    "df.Publisher.replace(r'(^.*BIOPYSICAL.*$)', 'BIOPHYSICAL SOCIETY', inplace=True, regex=True)\n",
    "df.Publisher.replace(r'(^.*BIOMED CENTRAL.*$)', 'BIOMED CENTRAL', inplace=True, regex=True)\n",
    "df.Publisher.replace(r'(^.*THE AMERICAN PHYSIOLOGICAL SOCIETY.*$)', 'AMERICAN PHYSIOLOGICAL SOCIETY', inplace=True, regex=True)\n",
    "df.Publisher.replace(r'(^.*ENDOCRINE SOC.*$)', 'ENDOCRINE SOCIETY', inplace=True, regex=True)\n",
    "df.Publisher.replace(r'(^.*ROYAL COLLEGE OF PSYCHIATRISTS.*$)', 'ROYAL COLLEGE OF PSYCHIATRISTS', inplace=True, regex=True)\n",
    "df.Publisher.replace(r'(^.*AMBSB.*$)', 'ASBMB', inplace=True, regex=True)\n",
    "\n",
    "df.Publisher.value_counts()"
   ]
  },
  {
   "cell_type": "code",
   "execution_count": 10,
   "metadata": {},
   "outputs": [
    {
     "data": {
      "text/plain": [
       "2040.00      94\n",
       "999999.00    47\n",
       "1500.00      37\n",
       "2400.00      32\n",
       "2100.00      30\n",
       "1800.00      28\n",
       "3000.00      26\n",
       "1700.00      21\n",
       "825.68       19\n",
       "1834.77      18\n",
       "2034.00      17\n",
       "852.00       16\n",
       "1680.00      16\n",
       "1920.00      13\n",
       "2010.24      11\n",
       "3120.00      11\n",
       "2340.00      11\n",
       "1620.00      10\n",
       "1260.00       8\n",
       "1536.00       8\n",
       "1704.00       8\n",
       "1836.92       7\n",
       "1044.00       7\n",
       "2145.60       7\n",
       "2415.37       6\n",
       "1315.80       6\n",
       "2377.65       6\n",
       "2625.60       6\n",
       "2184.22       6\n",
       "1939.95       6\n",
       "             ..\n",
       "2286.73       1\n",
       "967.18        1\n",
       "2381.62       1\n",
       "1639.06       1\n",
       "886.30        1\n",
       "159.74        1\n",
       "1160.09       1\n",
       "2381.04       1\n",
       "572.74        1\n",
       "1301.25       1\n",
       "187.03        1\n",
       "1384.34       1\n",
       "2232.74       1\n",
       "1930.88       1\n",
       "1670.77       1\n",
       "1758.89       1\n",
       "1439.45       1\n",
       "1157.88       1\n",
       "1889.00       1\n",
       "750.16        1\n",
       "614.73        1\n",
       "2363.76       1\n",
       "1694.68       1\n",
       "747.05        1\n",
       "1577.90       1\n",
       "1676.06       1\n",
       "1551.49       1\n",
       "1809.51       1\n",
       "1309.50       1\n",
       "0.00          1\n",
       "Name: Cost, Length: 1395, dtype: int64"
      ]
     },
     "execution_count": 10,
     "metadata": {},
     "output_type": "execute_result"
    }
   ],
   "source": [
    "#remove all characters that aren't digits\n",
    "df['Cost'] = df['Cost'].str.replace('£','')\n",
    "df['Cost'] = df['Cost'].str.replace('$','').astype('float64')\n",
    "\n",
    "df.Cost.value_counts()"
   ]
  },
  {
   "cell_type": "code",
   "execution_count": 11,
   "metadata": {},
   "outputs": [
    {
     "data": {
      "image/png": "[encoded data removed]",
      "text/plain": [
       "<Figure size 432x288 with 1 Axes>"
      ]
     },
     "metadata": {},
     "output_type": "display_data"
    }
   ],
   "source": [
    "#checking for outliers\n",
    "plt.hist(df['Cost'])\n",
    "plt.show()"
   ]
  },
  {
   "cell_type": "code",
   "execution_count": 15,
   "metadata": {},
   "outputs": [
    {
     "data": {
      "image/png": "[encoded data removed]",
      "text/plain": [
       "<Figure size 432x288 with 1 Axes>"
      ]
     },
     "metadata": {},
     "output_type": "display_data"
    }
   ],
   "source": [
    "#drop columns with outliers - removing 0 cost and 999999\n",
    "df = df[(df.Cost != 0) & (df.Cost != 999999.00)]\n",
    "plt.hist(df['Cost'])\n",
    "plt.show()"
   ]
  },
  {
   "cell_type": "code",
   "execution_count": 16,
   "metadata": {},
   "outputs": [
    {
     "data": {
      "text/plain": [
       "ELSEVIER                     399\n",
       "PUBLIC LIBRARY OF SCIENCE    292\n",
       "WILEY                        266\n",
       "OXFORD UNIVERSITY PRESS      243\n",
       "SPRINGER                      95\n",
       "Name: Publisher, dtype: int64"
      ]
     },
     "execution_count": 16,
     "metadata": {},
     "output_type": "execute_result"
    }
   ],
   "source": [
    "#finding total number of articles for 5 most common journals\n",
    "df.Publisher.value_counts().nlargest(5)"
   ]
  },
  {
   "cell_type": "code",
   "execution_count": 19,
   "metadata": {},
   "outputs": [
    {
     "name": "stdout",
     "output_type": "stream",
     "text": [
      "2435.015814536341\n",
      "2343.65\n",
      "793.4248862918353\n"
     ]
    }
   ],
   "source": [
    "elsevier = df[df.Publisher == 'ELSEVIER']\n",
    "print(elsevier.Cost.mean())\n",
    "print(elsevier.Cost.median())\n",
    "print(elsevier.Cost.std())"
   ]
  },
  {
   "cell_type": "code",
   "execution_count": 20,
   "metadata": {},
   "outputs": [
    {
     "name": "stdout",
     "output_type": "stream",
     "text": [
      "1790.3371232876711\n",
      "1020.425\n",
      "11214.64046076218\n"
     ]
    }
   ],
   "source": [
    "plos = df[df.Publisher == 'PUBLIC LIBRARY OF SCIENCE']\n",
    "print(plos.Cost.mean())\n",
    "print(plos.Cost.median())\n",
    "print(plos.Cost.std())"
   ]
  },
  {
   "cell_type": "code",
   "execution_count": 21,
   "metadata": {},
   "outputs": [
    {
     "name": "stdout",
     "output_type": "stream",
     "text": [
      "2758.9619548872174\n",
      "2007.74\n",
      "12207.951008386293\n"
     ]
    }
   ],
   "source": [
    "wiley = df[df.Publisher == 'WILEY']\n",
    "print(wiley.Cost.mean())\n",
    "print(wiley.Cost.median())\n",
    "print(wiley.Cost.std())"
   ]
  },
  {
   "cell_type": "code",
   "execution_count": 22,
   "metadata": {},
   "outputs": [
    {
     "name": "stdout",
     "output_type": "stream",
     "text": [
      "2085.882880658436\n",
      "2040.0\n",
      "679.9404627733674\n"
     ]
    }
   ],
   "source": [
    "oxford = df[df.Publisher == 'OXFORD UNIVERSITY PRESS']\n",
    "print(oxford.Cost.mean())\n",
    "print(oxford.Cost.median())\n",
    "print(oxford.Cost.std())"
   ]
  },
  {
   "cell_type": "code",
   "execution_count": 23,
   "metadata": {},
   "outputs": [
    {
     "name": "stdout",
     "output_type": "stream",
     "text": [
      "2026.0461052631576\n",
      "1981.19\n",
      "270.94719569677454\n"
     ]
    }
   ],
   "source": [
    "springer = df[df.Publisher == 'SPRINGER']\n",
    "print(springer.Cost.mean())\n",
    "print(springer.Cost.median())\n",
    "print(springer.Cost.std())"
   ]
  },
  {
   "cell_type": "code",
   "execution_count": null,
   "metadata": {},
   "outputs": [],
   "source": []
  }
 ],
 "metadata": {
  "kernelspec": {
   "display_name": "Python 3",
   "language": "python",
   "name": "python3"
  },
  "language_info": {
   "codemirror_mode": {
    "name": "ipython",
    "version": 3
   },
   "file_extension": ".py",
   "mimetype": "text/x-python",
   "name": "python",
   "nbconvert_exporter": "python",
   "pygments_lexer": "ipython3",
   "version": "3.6.5"
  }
 },
 "nbformat": 4,
 "nbformat_minor": 2
}
